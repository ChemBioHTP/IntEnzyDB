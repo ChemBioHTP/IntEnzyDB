{
 "cells": [
  {
   "cell_type": "markdown",
   "metadata": {},
   "source": [
    "# Table of Content:\n",
    "* [Li Yuan's second week work](#2)\n",
    "* [Li Yuan's third week work](#3)\n",
    "    * [Pandas convert](#31)\n",
    "    * [MdTraj convert](#32)\n",
    "* [Li Yuan's forth week work](#4)\n",
    "    * [get_all_atom() function](#41)\n",
    "    * [get_atom_and_hetatm() function](#42)\n",
    "    * [PDB Class](#43)\n",
    "    * [An example of this class \"4lza\"](#44)"
   ]
  },
  {
   "cell_type": "markdown",
   "metadata": {},
   "source": [
    "<a id='2'></a>\n",
    "# Li Yuan's second week work \n",
    "\n",
    "This is a set of basic examples of the usage and outputs of the various individual functions included in. There are generally three types of functions:\n",
    "\n",
    "+ Functions that perform searches and return lists of PDB IDs\n",
    "+ Functions that get information about specific PDB IDs\n",
    "+ Other general-purpose lookup functions\n",
    "\n",
    "The list of supported search types, as well as the different types of information that can be returned for a given PDB ID, is large (and growing) and is enumerated in the docstrings of pypdb.py. The PDB allows a very wide range of different types of queries, and so any option that is not currently available can likely be implemented based on the structure of the query types that have already been implemented. Please submit feedback and pull requests on GitHub."
   ]
  },
  {
   "cell_type": "markdown",
   "metadata": {},
   "source": [
    "### I didn't find any funcion in that package pypdb we can use to extract seqres and atom, so I only use get_pdb_file() function from that package to get the file and write my own function to do that."
   ]
  },
  {
   "cell_type": "markdown",
   "metadata": {},
   "source": [
    "### Preamble"
   ]
  },
  {
   "cell_type": "markdown",
   "metadata": {},
   "source": [
    "We import this package pypdb and prepare some other things."
   ]
  },
  {
   "cell_type": "code",
   "execution_count": 3,
   "metadata": {},
   "outputs": [
    {
     "name": "stdout",
     "output_type": "stream",
     "text": [
      "Populating the interactive namespace from numpy and matplotlib\n"
     ]
    }
   ],
   "source": [
    "%pylab inline\n",
    "from IPython.display import HTML\n",
    "\n",
    "## Import from local directory\n",
    "import sys\n",
    "sys.path.insert(0, '../pypdb')\n",
    "from pypdb import *\n",
    "\n",
    "## Import from installed package\n",
    "# from pypdb import *\n",
    "\n",
    "import pprint\n",
    "\n",
    "%load_ext autoreload\n",
    "%autoreload 2"
   ]
  },
  {
   "cell_type": "markdown",
   "metadata": {},
   "source": [
    "## This function I wrote is to extract only the seqres as a list"
   ]
  },
  {
   "cell_type": "code",
   "execution_count": null,
   "metadata": {},
   "outputs": [],
   "source": [
    "def get_seqres(pdb_id):\n",
    "    \"\"\" Return the seqres sequence of a pdb file\n",
    "    \n",
    "    >>> get_seqres('4Z0L')\n",
    "    >>> get_seqres('4lza')\n",
    "    \"\"\"\n",
    "    pdb_file = get_pdb_file(pdb_id, filetype='pdb', compression=False) \n",
    "    # using a get_pdb_file() function from pypdb package to return a file with format 'pdb'.\n",
    "    file1 = pdb_file.splitlines()\n",
    "    # split this long string into list by \\n.\n",
    "    list_se = []\n",
    "    for line in file1:\n",
    "        if line[:6] == \"SEQRES\":\n",
    "            list_se.append(line)\n",
    "    return(list_se)"
   ]
  },
  {
   "cell_type": "code",
   "execution_count": null,
   "metadata": {},
   "outputs": [],
   "source": [
    "get_seqres('4lza')[:10]"
   ]
  },
  {
   "cell_type": "code",
   "execution_count": null,
   "metadata": {},
   "outputs": [],
   "source": [
    "get_seqres('4Z0L')[:20]"
   ]
  },
  {
   "cell_type": "markdown",
   "metadata": {},
   "source": [
    "### This function I wrote is to extract only the atom sequence as a list"
   ]
  },
  {
   "cell_type": "code",
   "execution_count": null,
   "metadata": {},
   "outputs": [],
   "source": [
    "def get_atom(pdb_id):\n",
    "    \"\"\" Return the atom sequence of a pdb file\n",
    "    \n",
    "    >>> get_atom('4Z0L')\n",
    "    >>> get_atom('4lza')\n",
    "    \"\"\"\n",
    "    pdb_file = get_pdb_file(pdb_id, filetype='pdb', compression=False)\n",
    "    # using a get_pdb_file() function from pypdb package to return a file with format 'pdb'.\n",
    "    file1 = pdb_file.splitlines()\n",
    "    list_atom = []\n",
    "    for line in file1:\n",
    "        if line[:4] == \"ATOM\":\n",
    "            list_atom.append(line)\n",
    "    return(list_atom)"
   ]
  },
  {
   "cell_type": "code",
   "execution_count": null,
   "metadata": {},
   "outputs": [],
   "source": [
    "get_atom('4Z0L')[:10]"
   ]
  },
  {
   "cell_type": "code",
   "execution_count": null,
   "metadata": {
    "scrolled": true
   },
   "outputs": [],
   "source": [
    "get_atom('4lza')[:10]"
   ]
  },
  {
   "cell_type": "markdown",
   "metadata": {},
   "source": [
    "<a id='3'></a>\n",
    "# Li Yuan's third week work"
   ]
  },
  {
   "cell_type": "markdown",
   "metadata": {},
   "source": [
    "<a id='31'></a>\n",
    "## We first used pandas to convert a list into dataframe "
   ]
  },
  {
   "cell_type": "markdown",
   "metadata": {},
   "source": [
    "### First we used split() to split each string in the list returned by get_atom() function "
   ]
  },
  {
   "cell_type": "code",
   "execution_count": 4,
   "metadata": {},
   "outputs": [],
   "source": [
    "import pandas as pd"
   ]
  },
  {
   "cell_type": "code",
   "execution_count": null,
   "metadata": {},
   "outputs": [],
   "source": [
    "def get_atom(pdb_id):\n",
    "    \"\"\" Return the atom sequence of a pdb file as a pandas dataframe\n",
    "    \n",
    "    >>> get_atom('4Z0L')\n",
    "    >>> get_atom('4lza')\n",
    "    \"\"\"\n",
    "    pdb_file = get_pdb_file(pdb_id, filetype='pdb', compression=False)\n",
    "    # using a get_pdb_file() function from pypdb package to return a file with format 'pdb'.\n",
    "    file1 = pdb_file.splitlines()\n",
    "    list_atom = []\n",
    "    for line in file1:\n",
    "        if line[:4] == \"ATOM\":\n",
    "            list_atom.append(line)\n",
    "    list_s_atom = [s.split() for s in list_atom]\n",
    "    # split each string in a list by white spaces\n",
    "    df = pd.DataFrame(list_s_atom)\n",
    "    # use DataFrame function to convert a list to dataframe\n",
    "    df[\"id\"] = pdb_id\n",
    "    # add one id column to exsiting dataframe\n",
    "    return(df)"
   ]
  },
  {
   "cell_type": "code",
   "execution_count": null,
   "metadata": {},
   "outputs": [],
   "source": [
    "get_atom(\"4lza\").head(11)"
   ]
  },
  {
   "cell_type": "markdown",
   "metadata": {},
   "source": [
    "## Second we want to put a couple of pdb entries into one dataframe."
   ]
  },
  {
   "cell_type": "code",
   "execution_count": null,
   "metadata": {},
   "outputs": [],
   "source": [
    "def get_some_atom(L):\n",
    "    \"\"\" Take a list with returning some atom parts of pdb files into one dataframe \n",
    "    \n",
    "    >>> get_some_atom([\"4lza\", \"4Z0L\"])\n",
    "    \"\"\"\n",
    "    frames = [get_atom(l) for l in L]\n",
    "    return(pd.concat(frames))"
   ]
  },
  {
   "cell_type": "markdown",
   "metadata": {},
   "source": [
    "## We test this function with a list [\"4lza\", \"4Z0L]"
   ]
  },
  {
   "cell_type": "code",
   "execution_count": null,
   "metadata": {},
   "outputs": [],
   "source": [
    "get_some_atom([\"4lza\", \"4Z0L\"])"
   ]
  },
  {
   "cell_type": "markdown",
   "metadata": {},
   "source": [
    "## Next we want to put all ids into one dataframe"
   ]
  },
  {
   "cell_type": "markdown",
   "metadata": {},
   "source": [
    "### We used get_all() to list all pdb entries. "
   ]
  },
  {
   "cell_type": "code",
   "execution_count": null,
   "metadata": {},
   "outputs": [],
   "source": [
    "len(get_all())"
   ]
  },
  {
   "cell_type": "markdown",
   "metadata": {},
   "source": [
    "### We found there was 169681 entries in the current PDB  DataBase."
   ]
  },
  {
   "cell_type": "markdown",
   "metadata": {},
   "source": [
    "### We used concat() function to merge all the dataframe of each pdb entry into one huge dataframe."
   ]
  },
  {
   "cell_type": "code",
   "execution_count": null,
   "metadata": {},
   "outputs": [],
   "source": [
    "frames = [get_atom(id) for id in get_all()[:2]]\n",
    "pd.concat(frames)"
   ]
  },
  {
   "cell_type": "markdown",
   "metadata": {},
   "source": [
    "<a id='32'></a>\n",
    "## We used mdtraj package to load pdb file into memory from URL"
   ]
  },
  {
   "cell_type": "markdown",
   "metadata": {},
   "source": [
    ">MDTraj is a python library that allows users to manipulate molecular dynamics (MD) trajectories. Features include:\n",
    "1. Wide MD format support, including pdb, xtc, trr, dcd, binpos, netcdf, mdcrd, prmtop, and more.\n",
    "2. Extremely fast RMSD calculations (4x the speed of the original Theobald QCP).\n",
    "3. Extensive analysis functions including those that compute bonds, angles, dihedrals, hydrogen bonds, secondary structure, and NMR observables.\n",
    "4. Lightweight, Pythonic API."
   ]
  },
  {
   "cell_type": "code",
   "execution_count": null,
   "metadata": {},
   "outputs": [],
   "source": [
    "import mdtraj as md # import this package"
   ]
  },
  {
   "cell_type": "code",
   "execution_count": null,
   "metadata": {},
   "outputs": [],
   "source": [
    "pdb = md.load_pdb(\"https://files.rcsb.org/view/4LZA.pdb\")  # load data"
   ]
  },
  {
   "cell_type": "code",
   "execution_count": null,
   "metadata": {},
   "outputs": [],
   "source": [
    "print(pdb) # print to see how many frames and atoms, residues this file has "
   ]
  },
  {
   "cell_type": "markdown",
   "metadata": {},
   "source": [
    "## We convert this pdb file into topology"
   ]
  },
  {
   "cell_type": "code",
   "execution_count": null,
   "metadata": {},
   "outputs": [],
   "source": [
    "topology = pdb.topology"
   ]
  },
  {
   "cell_type": "code",
   "execution_count": null,
   "metadata": {},
   "outputs": [],
   "source": [
    "table, bonds = topology.to_dataframe()"
   ]
  },
  {
   "cell_type": "code",
   "execution_count": null,
   "metadata": {},
   "outputs": [],
   "source": [
    "print(table.head(7))"
   ]
  },
  {
   "cell_type": "code",
   "execution_count": null,
   "metadata": {},
   "outputs": [],
   "source": [
    "topology.atom(10)"
   ]
  },
  {
   "cell_type": "code",
   "execution_count": null,
   "metadata": {},
   "outputs": [],
   "source": [
    "topology.atoms"
   ]
  },
  {
   "cell_type": "code",
   "execution_count": null,
   "metadata": {},
   "outputs": [],
   "source": [
    "[i for i in topology.atoms][:10]"
   ]
  },
  {
   "cell_type": "code",
   "execution_count": null,
   "metadata": {},
   "outputs": [],
   "source": [
    "print(table.head(10))"
   ]
  },
  {
   "cell_type": "code",
   "execution_count": null,
   "metadata": {},
   "outputs": [],
   "source": [
    "atom = pdb.atom_slice(range(2833))"
   ]
  },
  {
   "cell_type": "code",
   "execution_count": null,
   "metadata": {},
   "outputs": [],
   "source": [
    "print(atom)"
   ]
  },
  {
   "cell_type": "code",
   "execution_count": null,
   "metadata": {},
   "outputs": [],
   "source": [
    "atom.xyz"
   ]
  },
  {
   "cell_type": "code",
   "execution_count": null,
   "metadata": {},
   "outputs": [],
   "source": [
    "[i for i in topology.bonds][:10]"
   ]
  },
  {
   "cell_type": "markdown",
   "metadata": {},
   "source": [
    "<a id='4'></a>\n",
    "# Li Yuan's forth week work"
   ]
  },
  {
   "cell_type": "markdown",
   "metadata": {},
   "source": [
    "## This function returns all the atom part, including ATOM, ANISOU, TER\n",
    "<a id='41'></a>"
   ]
  },
  {
   "cell_type": "code",
   "execution_count": 60,
   "metadata": {},
   "outputs": [],
   "source": [
    "def get_all_atom(pdb_id):\n",
    "    \"\"\" Return the all atom sequence of a pdb file as a pandas dataframe\n",
    "    \n",
    "    >>> get_all_atom('4Z0L')\n",
    "    >>> get_all_atom('4lza')\n",
    "    \"\"\"\n",
    "    pdb_file = get_pdb_file(pdb_id, filetype='pdb', compression=False)\n",
    "    # using a get_pdb_file() function from pypdb package to return a file with format 'pdb'.\n",
    "    file1 = pdb_file.splitlines()\n",
    "    list_atom = []\n",
    "    \n",
    "    # Find the index number of the line with ATOM\n",
    "    for line in file1:\n",
    "        if line[:4] == \"ATOM\":\n",
    "            num = file1.index(line)\n",
    "            break\n",
    "    \n",
    "    # we add/append all the lines which are within atom part until we meet CONECT\n",
    "    while file1[num][:6] != \"CONECT\":\n",
    "        list_atom.append(file1[num])\n",
    "        num = num + 1\n",
    "        \n",
    "    list_s_atom = [s.split() for s in list_atom]\n",
    "    # split each string in a list by white spaces\n",
    "    \n",
    "    df = pd.DataFrame(list_s_atom)\n",
    "    # use DataFrame function to convert a list to dataframe\n",
    "    df[\"id\"] = pdb_id\n",
    "    # add one id column to exsiting dataframe\n",
    "    return(df)"
   ]
  },
  {
   "cell_type": "code",
   "execution_count": 62,
   "metadata": {},
   "outputs": [
    {
     "data": {
      "text/html": [
       "<div>\n",
       "<style scoped>\n",
       "    .dataframe tbody tr th:only-of-type {\n",
       "        vertical-align: middle;\n",
       "    }\n",
       "\n",
       "    .dataframe tbody tr th {\n",
       "        vertical-align: top;\n",
       "    }\n",
       "\n",
       "    .dataframe thead th {\n",
       "        text-align: right;\n",
       "    }\n",
       "</style>\n",
       "<table border=\"1\" class=\"dataframe\">\n",
       "  <thead>\n",
       "    <tr style=\"text-align: right;\">\n",
       "      <th></th>\n",
       "      <th>0</th>\n",
       "      <th>1</th>\n",
       "      <th>2</th>\n",
       "      <th>3</th>\n",
       "      <th>4</th>\n",
       "      <th>5</th>\n",
       "      <th>6</th>\n",
       "      <th>7</th>\n",
       "      <th>8</th>\n",
       "      <th>9</th>\n",
       "      <th>10</th>\n",
       "      <th>11</th>\n",
       "      <th>12</th>\n",
       "      <th>id</th>\n",
       "    </tr>\n",
       "  </thead>\n",
       "  <tbody>\n",
       "    <tr>\n",
       "      <th>0</th>\n",
       "      <td>ATOM</td>\n",
       "      <td>1</td>\n",
       "      <td>N</td>\n",
       "      <td>THR</td>\n",
       "      <td>A</td>\n",
       "      <td>0</td>\n",
       "      <td>-27.785</td>\n",
       "      <td>5.217</td>\n",
       "      <td>-21.426</td>\n",
       "      <td>1.00</td>\n",
       "      <td>50.53</td>\n",
       "      <td>N</td>\n",
       "      <td>None</td>\n",
       "      <td>4lza</td>\n",
       "    </tr>\n",
       "    <tr>\n",
       "      <th>1</th>\n",
       "      <td>ANISOU</td>\n",
       "      <td>1</td>\n",
       "      <td>N</td>\n",
       "      <td>THR</td>\n",
       "      <td>A</td>\n",
       "      <td>0</td>\n",
       "      <td>6212</td>\n",
       "      <td>6054</td>\n",
       "      <td>6933</td>\n",
       "      <td>75</td>\n",
       "      <td>-219</td>\n",
       "      <td>-115</td>\n",
       "      <td>N</td>\n",
       "      <td>4lza</td>\n",
       "    </tr>\n",
       "    <tr>\n",
       "      <th>2</th>\n",
       "      <td>ATOM</td>\n",
       "      <td>2</td>\n",
       "      <td>CA</td>\n",
       "      <td>THR</td>\n",
       "      <td>A</td>\n",
       "      <td>0</td>\n",
       "      <td>-27.459</td>\n",
       "      <td>5.049</td>\n",
       "      <td>-19.974</td>\n",
       "      <td>1.00</td>\n",
       "      <td>49.41</td>\n",
       "      <td>C</td>\n",
       "      <td>None</td>\n",
       "      <td>4lza</td>\n",
       "    </tr>\n",
       "    <tr>\n",
       "      <th>3</th>\n",
       "      <td>ANISOU</td>\n",
       "      <td>2</td>\n",
       "      <td>CA</td>\n",
       "      <td>THR</td>\n",
       "      <td>A</td>\n",
       "      <td>0</td>\n",
       "      <td>6089</td>\n",
       "      <td>5870</td>\n",
       "      <td>6816</td>\n",
       "      <td>59</td>\n",
       "      <td>-181</td>\n",
       "      <td>-113</td>\n",
       "      <td>C</td>\n",
       "      <td>4lza</td>\n",
       "    </tr>\n",
       "    <tr>\n",
       "      <th>4</th>\n",
       "      <td>ATOM</td>\n",
       "      <td>3</td>\n",
       "      <td>C</td>\n",
       "      <td>THR</td>\n",
       "      <td>A</td>\n",
       "      <td>0</td>\n",
       "      <td>-25.949</td>\n",
       "      <td>5.130</td>\n",
       "      <td>-19.667</td>\n",
       "      <td>1.00</td>\n",
       "      <td>46.13</td>\n",
       "      <td>C</td>\n",
       "      <td>None</td>\n",
       "      <td>4lza</td>\n",
       "    </tr>\n",
       "    <tr>\n",
       "      <th>...</th>\n",
       "      <td>...</td>\n",
       "      <td>...</td>\n",
       "      <td>...</td>\n",
       "      <td>...</td>\n",
       "      <td>...</td>\n",
       "      <td>...</td>\n",
       "      <td>...</td>\n",
       "      <td>...</td>\n",
       "      <td>...</td>\n",
       "      <td>...</td>\n",
       "      <td>...</td>\n",
       "      <td>...</td>\n",
       "      <td>...</td>\n",
       "      <td>...</td>\n",
       "    </tr>\n",
       "    <tr>\n",
       "      <th>5529</th>\n",
       "      <td>HETATM</td>\n",
       "      <td>2850</td>\n",
       "      <td>O</td>\n",
       "      <td>HOH</td>\n",
       "      <td>B</td>\n",
       "      <td>286</td>\n",
       "      <td>-0.332</td>\n",
       "      <td>17.645</td>\n",
       "      <td>1.000</td>\n",
       "      <td>1.00</td>\n",
       "      <td>42.23</td>\n",
       "      <td>O</td>\n",
       "      <td>None</td>\n",
       "      <td>4lza</td>\n",
       "    </tr>\n",
       "    <tr>\n",
       "      <th>5530</th>\n",
       "      <td>HETATM</td>\n",
       "      <td>2851</td>\n",
       "      <td>O</td>\n",
       "      <td>HOH</td>\n",
       "      <td>B</td>\n",
       "      <td>287</td>\n",
       "      <td>-5.698</td>\n",
       "      <td>23.679</td>\n",
       "      <td>-0.316</td>\n",
       "      <td>1.00</td>\n",
       "      <td>47.35</td>\n",
       "      <td>O</td>\n",
       "      <td>None</td>\n",
       "      <td>4lza</td>\n",
       "    </tr>\n",
       "    <tr>\n",
       "      <th>5531</th>\n",
       "      <td>HETATM</td>\n",
       "      <td>2852</td>\n",
       "      <td>O</td>\n",
       "      <td>HOH</td>\n",
       "      <td>B</td>\n",
       "      <td>288</td>\n",
       "      <td>-6.332</td>\n",
       "      <td>-13.026</td>\n",
       "      <td>-3.481</td>\n",
       "      <td>1.00</td>\n",
       "      <td>51.79</td>\n",
       "      <td>O</td>\n",
       "      <td>None</td>\n",
       "      <td>4lza</td>\n",
       "    </tr>\n",
       "    <tr>\n",
       "      <th>5532</th>\n",
       "      <td>HETATM</td>\n",
       "      <td>2853</td>\n",
       "      <td>O</td>\n",
       "      <td>HOH</td>\n",
       "      <td>B</td>\n",
       "      <td>289</td>\n",
       "      <td>-8.265</td>\n",
       "      <td>-14.563</td>\n",
       "      <td>-0.902</td>\n",
       "      <td>1.00</td>\n",
       "      <td>50.84</td>\n",
       "      <td>O</td>\n",
       "      <td>None</td>\n",
       "      <td>4lza</td>\n",
       "    </tr>\n",
       "    <tr>\n",
       "      <th>5533</th>\n",
       "      <td>HETATM</td>\n",
       "      <td>2854</td>\n",
       "      <td>O</td>\n",
       "      <td>HOH</td>\n",
       "      <td>B</td>\n",
       "      <td>290</td>\n",
       "      <td>-28.824</td>\n",
       "      <td>12.440</td>\n",
       "      <td>-1.084</td>\n",
       "      <td>1.00</td>\n",
       "      <td>46.14</td>\n",
       "      <td>O</td>\n",
       "      <td>None</td>\n",
       "      <td>4lza</td>\n",
       "    </tr>\n",
       "  </tbody>\n",
       "</table>\n",
       "<p>5534 rows × 14 columns</p>\n",
       "</div>"
      ],
      "text/plain": [
       "           0     1   2    3  4    5        6        7        8     9     10  \\\n",
       "0       ATOM     1   N  THR  A    0  -27.785    5.217  -21.426  1.00  50.53   \n",
       "1     ANISOU     1   N  THR  A    0     6212     6054     6933    75   -219   \n",
       "2       ATOM     2  CA  THR  A    0  -27.459    5.049  -19.974  1.00  49.41   \n",
       "3     ANISOU     2  CA  THR  A    0     6089     5870     6816    59   -181   \n",
       "4       ATOM     3   C  THR  A    0  -25.949    5.130  -19.667  1.00  46.13   \n",
       "...      ...   ...  ..  ... ..  ...      ...      ...      ...   ...    ...   \n",
       "5529  HETATM  2850   O  HOH  B  286   -0.332   17.645    1.000  1.00  42.23   \n",
       "5530  HETATM  2851   O  HOH  B  287   -5.698   23.679   -0.316  1.00  47.35   \n",
       "5531  HETATM  2852   O  HOH  B  288   -6.332  -13.026   -3.481  1.00  51.79   \n",
       "5532  HETATM  2853   O  HOH  B  289   -8.265  -14.563   -0.902  1.00  50.84   \n",
       "5533  HETATM  2854   O  HOH  B  290  -28.824   12.440   -1.084  1.00  46.14   \n",
       "\n",
       "        11    12    id  \n",
       "0        N  None  4lza  \n",
       "1     -115     N  4lza  \n",
       "2        C  None  4lza  \n",
       "3     -113     C  4lza  \n",
       "4        C  None  4lza  \n",
       "...    ...   ...   ...  \n",
       "5529     O  None  4lza  \n",
       "5530     O  None  4lza  \n",
       "5531     O  None  4lza  \n",
       "5532     O  None  4lza  \n",
       "5533     O  None  4lza  \n",
       "\n",
       "[5534 rows x 14 columns]"
      ]
     },
     "execution_count": 62,
     "metadata": {},
     "output_type": "execute_result"
    }
   ],
   "source": [
    "get_all_atom(\"4lza\")"
   ]
  },
  {
   "cell_type": "markdown",
   "metadata": {},
   "source": [
    "## This function I wrote only returns atom and hetatm\n",
    "<a id='42'></a>"
   ]
  },
  {
   "cell_type": "code",
   "execution_count": 5,
   "metadata": {},
   "outputs": [],
   "source": [
    "def get_atom_and_hetatm(pdb_id):\n",
    "    \"\"\" Return the atom sequence of a pdb file as a pandas dataframe\n",
    "    \n",
    "    >>> get_atom_hetatm('4Z0L')\n",
    "    >>> get_atom_hetatm('4lza')\n",
    "    \"\"\"\n",
    "    pdb_file = get_pdb_file(pdb_id, filetype='pdb', compression=False)\n",
    "    # using a get_pdb_file() function from pypdb package to return a file with format 'pdb'\n",
    "    file1 = pdb_file.splitlines()\n",
    "    list_atom = []\n",
    "    \n",
    "    # we only select line with atom and hetatm\n",
    "    for line in file1:\n",
    "        if line[:4] == \"ATOM\" or line[:6] == \"HETATM\":\n",
    "            list_atom.append(line)\n",
    "        \n",
    "    list_s_atom = [s.split() for s in list_atom]\n",
    "    # split each string in a list by white spaces\n",
    "    df = pd.DataFrame(list_s_atom)\n",
    "    # use DataFrame function to convert a list to dataframe\n",
    "    df[\"id\"] = pdb_id\n",
    "    # add one id column to exsiting dataframe\n",
    "    return(df)"
   ]
  },
  {
   "cell_type": "code",
   "execution_count": 6,
   "metadata": {},
   "outputs": [
    {
     "data": {
      "text/html": [
       "<div>\n",
       "<style scoped>\n",
       "    .dataframe tbody tr th:only-of-type {\n",
       "        vertical-align: middle;\n",
       "    }\n",
       "\n",
       "    .dataframe tbody tr th {\n",
       "        vertical-align: top;\n",
       "    }\n",
       "\n",
       "    .dataframe thead th {\n",
       "        text-align: right;\n",
       "    }\n",
       "</style>\n",
       "<table border=\"1\" class=\"dataframe\">\n",
       "  <thead>\n",
       "    <tr style=\"text-align: right;\">\n",
       "      <th></th>\n",
       "      <th>0</th>\n",
       "      <th>1</th>\n",
       "      <th>2</th>\n",
       "      <th>3</th>\n",
       "      <th>4</th>\n",
       "      <th>5</th>\n",
       "      <th>6</th>\n",
       "      <th>7</th>\n",
       "      <th>8</th>\n",
       "      <th>9</th>\n",
       "      <th>10</th>\n",
       "      <th>11</th>\n",
       "      <th>id</th>\n",
       "    </tr>\n",
       "  </thead>\n",
       "  <tbody>\n",
       "    <tr>\n",
       "      <th>0</th>\n",
       "      <td>ATOM</td>\n",
       "      <td>1</td>\n",
       "      <td>N</td>\n",
       "      <td>THR</td>\n",
       "      <td>A</td>\n",
       "      <td>0</td>\n",
       "      <td>-27.785</td>\n",
       "      <td>5.217</td>\n",
       "      <td>-21.426</td>\n",
       "      <td>1.00</td>\n",
       "      <td>50.53</td>\n",
       "      <td>N</td>\n",
       "      <td>4lza</td>\n",
       "    </tr>\n",
       "    <tr>\n",
       "      <th>1</th>\n",
       "      <td>ATOM</td>\n",
       "      <td>2</td>\n",
       "      <td>CA</td>\n",
       "      <td>THR</td>\n",
       "      <td>A</td>\n",
       "      <td>0</td>\n",
       "      <td>-27.459</td>\n",
       "      <td>5.049</td>\n",
       "      <td>-19.974</td>\n",
       "      <td>1.00</td>\n",
       "      <td>49.41</td>\n",
       "      <td>C</td>\n",
       "      <td>4lza</td>\n",
       "    </tr>\n",
       "    <tr>\n",
       "      <th>2</th>\n",
       "      <td>ATOM</td>\n",
       "      <td>3</td>\n",
       "      <td>C</td>\n",
       "      <td>THR</td>\n",
       "      <td>A</td>\n",
       "      <td>0</td>\n",
       "      <td>-25.949</td>\n",
       "      <td>5.130</td>\n",
       "      <td>-19.667</td>\n",
       "      <td>1.00</td>\n",
       "      <td>46.13</td>\n",
       "      <td>C</td>\n",
       "      <td>4lza</td>\n",
       "    </tr>\n",
       "    <tr>\n",
       "      <th>3</th>\n",
       "      <td>ATOM</td>\n",
       "      <td>4</td>\n",
       "      <td>O</td>\n",
       "      <td>THR</td>\n",
       "      <td>A</td>\n",
       "      <td>0</td>\n",
       "      <td>-25.572</td>\n",
       "      <td>5.789</td>\n",
       "      <td>-18.699</td>\n",
       "      <td>1.00</td>\n",
       "      <td>44.22</td>\n",
       "      <td>O</td>\n",
       "      <td>4lza</td>\n",
       "    </tr>\n",
       "    <tr>\n",
       "      <th>4</th>\n",
       "      <td>ATOM</td>\n",
       "      <td>5</td>\n",
       "      <td>CB</td>\n",
       "      <td>THR</td>\n",
       "      <td>A</td>\n",
       "      <td>0</td>\n",
       "      <td>-28.153</td>\n",
       "      <td>3.815</td>\n",
       "      <td>-19.346</td>\n",
       "      <td>1.00</td>\n",
       "      <td>51.85</td>\n",
       "      <td>C</td>\n",
       "      <td>4lza</td>\n",
       "    </tr>\n",
       "    <tr>\n",
       "      <th>...</th>\n",
       "      <td>...</td>\n",
       "      <td>...</td>\n",
       "      <td>...</td>\n",
       "      <td>...</td>\n",
       "      <td>...</td>\n",
       "      <td>...</td>\n",
       "      <td>...</td>\n",
       "      <td>...</td>\n",
       "      <td>...</td>\n",
       "      <td>...</td>\n",
       "      <td>...</td>\n",
       "      <td>...</td>\n",
       "      <td>...</td>\n",
       "    </tr>\n",
       "    <tr>\n",
       "      <th>2847</th>\n",
       "      <td>HETATM</td>\n",
       "      <td>2850</td>\n",
       "      <td>O</td>\n",
       "      <td>HOH</td>\n",
       "      <td>B</td>\n",
       "      <td>286</td>\n",
       "      <td>-0.332</td>\n",
       "      <td>17.645</td>\n",
       "      <td>1.000</td>\n",
       "      <td>1.00</td>\n",
       "      <td>42.23</td>\n",
       "      <td>O</td>\n",
       "      <td>4lza</td>\n",
       "    </tr>\n",
       "    <tr>\n",
       "      <th>2848</th>\n",
       "      <td>HETATM</td>\n",
       "      <td>2851</td>\n",
       "      <td>O</td>\n",
       "      <td>HOH</td>\n",
       "      <td>B</td>\n",
       "      <td>287</td>\n",
       "      <td>-5.698</td>\n",
       "      <td>23.679</td>\n",
       "      <td>-0.316</td>\n",
       "      <td>1.00</td>\n",
       "      <td>47.35</td>\n",
       "      <td>O</td>\n",
       "      <td>4lza</td>\n",
       "    </tr>\n",
       "    <tr>\n",
       "      <th>2849</th>\n",
       "      <td>HETATM</td>\n",
       "      <td>2852</td>\n",
       "      <td>O</td>\n",
       "      <td>HOH</td>\n",
       "      <td>B</td>\n",
       "      <td>288</td>\n",
       "      <td>-6.332</td>\n",
       "      <td>-13.026</td>\n",
       "      <td>-3.481</td>\n",
       "      <td>1.00</td>\n",
       "      <td>51.79</td>\n",
       "      <td>O</td>\n",
       "      <td>4lza</td>\n",
       "    </tr>\n",
       "    <tr>\n",
       "      <th>2850</th>\n",
       "      <td>HETATM</td>\n",
       "      <td>2853</td>\n",
       "      <td>O</td>\n",
       "      <td>HOH</td>\n",
       "      <td>B</td>\n",
       "      <td>289</td>\n",
       "      <td>-8.265</td>\n",
       "      <td>-14.563</td>\n",
       "      <td>-0.902</td>\n",
       "      <td>1.00</td>\n",
       "      <td>50.84</td>\n",
       "      <td>O</td>\n",
       "      <td>4lza</td>\n",
       "    </tr>\n",
       "    <tr>\n",
       "      <th>2851</th>\n",
       "      <td>HETATM</td>\n",
       "      <td>2854</td>\n",
       "      <td>O</td>\n",
       "      <td>HOH</td>\n",
       "      <td>B</td>\n",
       "      <td>290</td>\n",
       "      <td>-28.824</td>\n",
       "      <td>12.440</td>\n",
       "      <td>-1.084</td>\n",
       "      <td>1.00</td>\n",
       "      <td>46.14</td>\n",
       "      <td>O</td>\n",
       "      <td>4lza</td>\n",
       "    </tr>\n",
       "  </tbody>\n",
       "</table>\n",
       "<p>2852 rows × 13 columns</p>\n",
       "</div>"
      ],
      "text/plain": [
       "           0     1   2    3  4    5        6        7        8     9     10  \\\n",
       "0       ATOM     1   N  THR  A    0  -27.785    5.217  -21.426  1.00  50.53   \n",
       "1       ATOM     2  CA  THR  A    0  -27.459    5.049  -19.974  1.00  49.41   \n",
       "2       ATOM     3   C  THR  A    0  -25.949    5.130  -19.667  1.00  46.13   \n",
       "3       ATOM     4   O  THR  A    0  -25.572    5.789  -18.699  1.00  44.22   \n",
       "4       ATOM     5  CB  THR  A    0  -28.153    3.815  -19.346  1.00  51.85   \n",
       "...      ...   ...  ..  ... ..  ...      ...      ...      ...   ...    ...   \n",
       "2847  HETATM  2850   O  HOH  B  286   -0.332   17.645    1.000  1.00  42.23   \n",
       "2848  HETATM  2851   O  HOH  B  287   -5.698   23.679   -0.316  1.00  47.35   \n",
       "2849  HETATM  2852   O  HOH  B  288   -6.332  -13.026   -3.481  1.00  51.79   \n",
       "2850  HETATM  2853   O  HOH  B  289   -8.265  -14.563   -0.902  1.00  50.84   \n",
       "2851  HETATM  2854   O  HOH  B  290  -28.824   12.440   -1.084  1.00  46.14   \n",
       "\n",
       "     11    id  \n",
       "0     N  4lza  \n",
       "1     C  4lza  \n",
       "2     C  4lza  \n",
       "3     O  4lza  \n",
       "4     C  4lza  \n",
       "...  ..   ...  \n",
       "2847  O  4lza  \n",
       "2848  O  4lza  \n",
       "2849  O  4lza  \n",
       "2850  O  4lza  \n",
       "2851  O  4lza  \n",
       "\n",
       "[2852 rows x 13 columns]"
      ]
     },
     "execution_count": 6,
     "metadata": {},
     "output_type": "execute_result"
    }
   ],
   "source": [
    "get_atom_and_hetatm(\"4lza\")"
   ]
  },
  {
   "cell_type": "markdown",
   "metadata": {},
   "source": [
    "<a id='43'></a>\n",
    "## I create a class for each pdb_id which can return attribute/ desired fields and with methods we want"
   ]
  },
  {
   "cell_type": "code",
   "execution_count": 43,
   "metadata": {},
   "outputs": [],
   "source": [
    "class pdb:\n",
    "    \"\"\"A class of each pdb_id file, including desired attributes and methods\"\"\"\n",
    "    \n",
    "    def __init__(self, pdb_id):\n",
    "        \"\"\"Create a object given a specific id\"\"\"\n",
    "        \n",
    "        self.id = pdb_id\n",
    "        self.file = get_pdb_file(pdb_id, filetype='pdb', compression=False)\n",
    "        self.list = self.file.splitlines()\n",
    "        \n",
    "    def get_enzyme_type(self):\n",
    "        \"\"\"get the enzyme type of this pdb\"\"\"\n",
    "        \n",
    "        for line in self.list:\n",
    "            if line[:6] == \"HEADER\":\n",
    "                return(line.split()[1])\n",
    "            \n",
    "    def get_name(self):\n",
    "        \"\"\"get molecue name of this pdb\"\"\"\n",
    "        \n",
    "        for line in self.list:\n",
    "            if \"MOLECULE:\" in line:\n",
    "                res = line[line.find(\"MOLECULE:\")+10:]\n",
    "                return(res[:res.find(\";\")])\n",
    "            \n",
    "    def get_organism_name(self):\n",
    "        \"\"\"get organism name of this pdb\"\"\"\n",
    "        \n",
    "        for line in self.list:\n",
    "            if \"ORGANISM_SCIENTIFIC:\" in line:\n",
    "                res = line[line.find(\"ORGANISM_SCIENTIFIC:\")+21:]\n",
    "                return(res[:res.find(\";\")])\n",
    "            \n",
    "    def get_organism_taxid(self):\n",
    "        \"\"\"get organism taxid of this pdb\"\"\"\n",
    "        \n",
    "        for line in self.list:\n",
    "            if \"ORGANISM_TAXID:\" in line:\n",
    "                res = line[line.find(\"ORGANISM_TAXID:\")+16:]\n",
    "                return(res[:res.find(\";\")])\n",
    "            \n",
    "    def get_chain_id(self):\n",
    "        \"\"\"get chain id of this pdb\"\"\"\n",
    "        \n",
    "        for line in self.list:\n",
    "            if \"CHAIN:\" in line:\n",
    "                res = line[line.find(\"CHAIN:\")+7:]\n",
    "                return(res[:res.find(\";\")])\n",
    "            \n",
    "    \n",
    "    def get_ec_number(self):\n",
    "        \"\"\"get EC number of this pdb\"\"\"\n",
    "        \n",
    "        for line in self.list:\n",
    "            if \"EC:\" in line:\n",
    "                res = line[line.find(\"EC:\")+4:]\n",
    "                return(res[:res.find(\";\")])\n",
    "            \n",
    "    def get_strain(self):\n",
    "        \"\"\"get strain of this pdb\"\"\"\n",
    "        \n",
    "        for line in self.list:\n",
    "            if \"STRAIN:\" in line:\n",
    "                res = line[line.find(\"STRAIN:\")+8:]\n",
    "                return(res[:res.find(\";\")])\n",
    "    \n",
    "    def get_gene(self):\n",
    "        \"\"\"get gene of this pdb\"\"\"\n",
    "        \n",
    "        for line in self.list:\n",
    "            if \"GENE:\" in line:\n",
    "                res = line[line.find(\"GENE:\")+6:]\n",
    "                return(res[:res.find(\";\")])\n",
    "            \n",
    "    def get_resolution(self):\n",
    "        \"\"\"get resolution of this pdb\"\"\"\n",
    "        \n",
    "        for line in self.list:\n",
    "            if \"RESOLUTION.\" in line:\n",
    "                num = line.find(\"RESOLUTION.\") + 11\n",
    "                while line[num] == \" \":\n",
    "                    num = num + 1\n",
    "                    if line[num] != \" \":\n",
    "                        res = line[num:]\n",
    "                        break\n",
    "                return(res[:res.find(\"ANGSTROMS.\")+9])\n",
    "            \n",
    "    def get_seqres(self):\n",
    "        \"\"\"get the seqres sequence of a pdb file\"\"\"\n",
    "    \n",
    "        list_se = []\n",
    "        for line in self.list:\n",
    "            if line[:6] == \"SEQRES\":\n",
    "                list_se.append(line)\n",
    "        list_se = [s.split() for s in list_se]\n",
    "        df = pd.DataFrame(list_se)\n",
    "        return(df)\n",
    "    \n",
    "    def get_atom_and_hetatm(self):\n",
    "        \"\"\"get the atom and hetatm sequence of a pdb file as a pandas dataframe\"\"\"\n",
    "        \n",
    "        list_atom = []\n",
    "        # we only select line with atom and hetatm\n",
    "        for line in self.list:\n",
    "            if line[:4] == \"ATOM\" or line[:6] == \"HETATM\":\n",
    "                list_atom.append(line)\n",
    "        \n",
    "        \n",
    "        list_s_atom = []\n",
    "        # according to the string position to make a list of each row\n",
    "        for line in list_atom:\n",
    "            l = []\n",
    "            if line[:6].isspace():\n",
    "                l.append(None)\n",
    "            else:\n",
    "                l.append(line[:6].split()[0])\n",
    "            if line[6:11].isspace():\n",
    "                l.append(None)\n",
    "            else:\n",
    "                l.append(line[6:11].split()[0])\n",
    "            \n",
    "            if line[12:16].isspace():\n",
    "                l.append(None)\n",
    "            else:\n",
    "                l.append(line[12:16].split()[0])\n",
    "                \n",
    "            if line[16].isspace():\n",
    "                l.append(None)\n",
    "            else:\n",
    "                l.append(line[16].split()[0])\n",
    "            \n",
    "            if line[17:20].isspace():\n",
    "                l.append(None)\n",
    "            else:\n",
    "                l.append(line[17:20].split()[0])\n",
    "                \n",
    "            if line[21].isspace():\n",
    "                l.append(None)\n",
    "            else:\n",
    "                l.append(line[21].split()[0])\n",
    "                \n",
    "            if line[22:26].isspace():\n",
    "                l.append(None)\n",
    "            else:\n",
    "                l.append(line[22:26].split()[0])\n",
    "                \n",
    "            if line[26].isspace():\n",
    "                l.append(None)\n",
    "            else:\n",
    "                l.append(line[26].split()[0])\n",
    "                \n",
    "            if line[30:38].isspace():\n",
    "                l.append(None)\n",
    "            else:\n",
    "                l.append(line[30:38].split()[0])\n",
    "                \n",
    "            if line[38:46].isspace():\n",
    "                l.append(None)\n",
    "            else:\n",
    "                l.append(line[38:46].split()[0])\n",
    "                \n",
    "            if line[46:54].isspace():\n",
    "                l.append(None)\n",
    "            else:\n",
    "                l.append(line[46:54].split()[0])\n",
    "                \n",
    "            if line[54:60].isspace():\n",
    "                l.append(None)\n",
    "            else:\n",
    "                l.append(line[54:60].split()[0])\n",
    "                \n",
    "            if line[60:66].isspace():\n",
    "                l.append(None)\n",
    "            else:\n",
    "                l.append(line[60:66].split()[0])\n",
    "                \n",
    "            if line[76:78].isspace():\n",
    "                l.append(None)\n",
    "            else:\n",
    "                l.append(line[76:78].split()[0])\n",
    "                \n",
    "            if line[78:80].isspace():\n",
    "                l.append(None)\n",
    "            else:\n",
    "                l.append(line[78:80].split()[0])\n",
    "            \n",
    "            list_s_atom.append(l)\n",
    "                \n",
    "        df = pd.DataFrame(list_s_atom)\n",
    "        # use DataFrame function to convert a list to dataframe\n",
    "        df.columns = [\"Record Name\", \"serial\", \"name\", \"altLoc\", \"resName\", \"chainID\", \"resSeq\", \n",
    "                     \"iCode\", \"x\", \"y\", \"z\", \"occupancy\", \"tempFactor\", \"element\", \"charge\"]\n",
    "        return(df)\n",
    "    \n",
    "    def get_missing_residue(self):\n",
    "        \"\"\"get the missing residue as a pandas data frame\"\"\"\n",
    "        \n",
    "        for line in self.list:\n",
    "            if \"MISSING RESIDUES\" in line:\n",
    "                res = line\n",
    "        \n",
    "        if res == None:\n",
    "            return(\"There is no missing residue in this pdb file.\")\n",
    "        \n",
    "        inx = self.list.index(res)\n",
    "        \n",
    "        while \"M RES C SSSEQI\" not in self.list[inx]:\n",
    "            inx = inx + 1\n",
    "        \n",
    "        inx += 1\n",
    "        \n",
    "        list_miss = []\n",
    "        # according to the string position to make a list of each row\n",
    "        while not self.list[inx][10:].isspace():\n",
    "            l = []\n",
    "            line = self.list[inx]\n",
    "            if line[13].isspace():\n",
    "                l.append(None)\n",
    "            else:\n",
    "                l.append(line[13])\n",
    "            if line[15:18].isspace():\n",
    "                l.append(None)\n",
    "            else:\n",
    "                l.append(line[15:18])\n",
    "            if line[19].isspace():\n",
    "                l.append(None)\n",
    "            else:\n",
    "                l.append(line[19])\n",
    "            if line[21:26].isspace():\n",
    "                l.append(None)\n",
    "            else:\n",
    "                l.append(line[21:26])\n",
    "            if line[26].isspace():\n",
    "                l.append(None)\n",
    "            else:\n",
    "                l.append(line[26])\n",
    "            list_miss.append(l)\n",
    "            inx = inx + 1\n",
    "        \n",
    "        df = pd.DataFrame(list_miss)\n",
    "        df.columns = [\"MODEL NUMBER\", \"RESIDUE NAME\", \"CHAIN IDENTIFIER\", \"SEQUENCE NUMBER\", \"INSERTION CODE\"]\n",
    "        return(df)"
   ]
  },
  {
   "cell_type": "markdown",
   "metadata": {},
   "source": [
    "<a id=44></a>\n",
    "### an example of 4lza object of this class "
   ]
  },
  {
   "cell_type": "code",
   "execution_count": 46,
   "metadata": {},
   "outputs": [
    {
     "name": "stdout",
     "output_type": "stream",
     "text": [
      "4lza\n"
     ]
    }
   ],
   "source": [
    "_4lza = pdb(\"4lza\")\n",
    "print(_4lza.id)"
   ]
  },
  {
   "cell_type": "code",
   "execution_count": 47,
   "metadata": {},
   "outputs": [
    {
     "name": "stdout",
     "output_type": "stream",
     "text": [
      "['HEADER    TRANSFERASE                             31-JUL-13   4LZA              ', 'TITLE     CRYSTAL STRUCTURE OF ADENINE PHOSPHORIBOSYLTRANSFERASE FROM           ']\n"
     ]
    }
   ],
   "source": [
    "print(_4lza.list[:2])"
   ]
  },
  {
   "cell_type": "code",
   "execution_count": 48,
   "metadata": {},
   "outputs": [
    {
     "name": "stdout",
     "output_type": "stream",
     "text": [
      "TRANSFERASE\n"
     ]
    }
   ],
   "source": [
    "print(_4lza.get_enzyme_type())"
   ]
  },
  {
   "cell_type": "code",
   "execution_count": 49,
   "metadata": {},
   "outputs": [
    {
     "name": "stdout",
     "output_type": "stream",
     "text": [
      "ADENINE PHOSPHORIBOSYLTRANSFERASE\n"
     ]
    }
   ],
   "source": [
    "print(_4lza.get_name())"
   ]
  },
  {
   "cell_type": "code",
   "execution_count": 50,
   "metadata": {},
   "outputs": [
    {
     "name": "stdout",
     "output_type": "stream",
     "text": [
      "THERMOANAEROBACTER PSEUDETHANOLICUS\n"
     ]
    }
   ],
   "source": [
    "print(_4lza.get_organism_name())"
   ]
  },
  {
   "cell_type": "code",
   "execution_count": 51,
   "metadata": {},
   "outputs": [
    {
     "name": "stdout",
     "output_type": "stream",
     "text": [
      "340099\n"
     ]
    }
   ],
   "source": [
    "print(_4lza.get_organism_taxid())"
   ]
  },
  {
   "cell_type": "code",
   "execution_count": 52,
   "metadata": {},
   "outputs": [
    {
     "name": "stdout",
     "output_type": "stream",
     "text": [
      "A, B\n"
     ]
    }
   ],
   "source": [
    "print(_4lza.get_chain_id())"
   ]
  },
  {
   "cell_type": "code",
   "execution_count": 53,
   "metadata": {},
   "outputs": [
    {
     "name": "stdout",
     "output_type": "stream",
     "text": [
      "2.4.2.7\n"
     ]
    }
   ],
   "source": [
    "print(_4lza.get_ec_number())"
   ]
  },
  {
   "cell_type": "code",
   "execution_count": 54,
   "metadata": {},
   "outputs": [
    {
     "name": "stdout",
     "output_type": "stream",
     "text": [
      "ATCC 33223\n"
     ]
    }
   ],
   "source": [
    "print(_4lza.get_strain())"
   ]
  },
  {
   "cell_type": "code",
   "execution_count": 55,
   "metadata": {},
   "outputs": [
    {
     "name": "stdout",
     "output_type": "stream",
     "text": [
      "166856274, APT, TETH39_1027\n"
     ]
    }
   ],
   "source": [
    "print(_4lza.get_gene())"
   ]
  },
  {
   "cell_type": "code",
   "execution_count": 56,
   "metadata": {},
   "outputs": [
    {
     "name": "stdout",
     "output_type": "stream",
     "text": [
      "1.84 ANGSTROMS\n"
     ]
    }
   ],
   "source": [
    "print(_4lza.get_resolution())"
   ]
  },
  {
   "cell_type": "code",
   "execution_count": 57,
   "metadata": {},
   "outputs": [
    {
     "name": "stdout",
     "output_type": "stream",
     "text": [
      "        0  1  2    3    4    5    6    7    8    9   10   11   12   13   14  \\\n",
      "0  SEQRES  1  A  195  MSE  HIS  HIS  HIS  HIS  HIS  HIS  SER  SER  GLY  VAL   \n",
      "1  SEQRES  2  A  195  GLY  THR  GLU  ASN  LEU  TYR  PHE  GLN  SER  MSE  THR   \n",
      "2  SEQRES  3  A  195  GLU  ILE  LYS  MSE  MSE  ILE  ARG  GLU  ILE  PRO  ASP   \n",
      "3  SEQRES  4  A  195  LYS  LYS  GLY  ILE  LYS  PHE  LYS  ASP  ILE  THR  PRO   \n",
      "4  SEQRES  5  A  195  LYS  ASP  ALA  LYS  ALA  PHE  ASN  TYR  SER  ILE  GLU   \n",
      "5  SEQRES  6  A  195  ALA  LYS  ALA  LEU  GLU  GLY  ARG  LYS  PHE  ASP  LEU   \n",
      "\n",
      "    15   16  \n",
      "0  ASP  LEU  \n",
      "1  LEU  GLU  \n",
      "2  PHE  PRO  \n",
      "3  VAL  LEU  \n",
      "4  MSE  LEU  \n",
      "5  ILE  ALA  \n"
     ]
    }
   ],
   "source": [
    "print(_4lza.get_seqres().head(6))"
   ]
  },
  {
   "cell_type": "code",
   "execution_count": 58,
   "metadata": {},
   "outputs": [
    {
     "name": "stdout",
     "output_type": "stream",
     "text": [
      "  Record Name serial name altLoc resName chainID resSeq iCode        x      y  \\\n",
      "0        ATOM      1    N   None     THR       A      0  None  -27.785  5.217   \n",
      "1        ATOM      2   CA   None     THR       A      0  None  -27.459  5.049   \n",
      "2        ATOM      3    C   None     THR       A      0  None  -25.949  5.130   \n",
      "3        ATOM      4    O   None     THR       A      0  None  -25.572  5.789   \n",
      "4        ATOM      5   CB   None     THR       A      0  None  -28.153  3.815   \n",
      "5        ATOM      6  OG1   None     THR       A      0  None  -27.919  3.787   \n",
      "6        ATOM      7  CG2   None     THR       A      0  None  -27.688  2.516   \n",
      "7        ATOM      8    N   None     LEU       A      1  None  -25.087  4.511   \n",
      "8        ATOM      9   CA   None     LEU       A      1  None  -23.681  4.942   \n",
      "9        ATOM     10    C   None     LEU       A      1  None  -23.615  6.356   \n",
      "\n",
      "         z occupancy tempFactor element charge  \n",
      "0  -21.426      1.00      50.53       N   None  \n",
      "1  -19.974      1.00      49.41       C   None  \n",
      "2  -19.667      1.00      46.13       C   None  \n",
      "3  -18.699      1.00      44.22       O   None  \n",
      "4  -19.346      1.00      51.85       C   None  \n",
      "5  -17.932      1.00      52.21       O   None  \n",
      "6  -19.989      1.00      53.52       C   None  \n",
      "7  -20.480      1.00      43.20       N   None  \n",
      "8  -20.481      1.00      42.39       C   None  \n",
      "9  -21.059      1.00      43.21       C   None  \n"
     ]
    }
   ],
   "source": [
    "print(_4lza.get_atom_and_hetatm().head(10))"
   ]
  },
  {
   "cell_type": "code",
   "execution_count": 59,
   "metadata": {},
   "outputs": [
    {
     "name": "stdout",
     "output_type": "stream",
     "text": [
      "   MODEL NUMBER RESIDUE NAME CHAIN IDENTIFIER SEQUENCE NUMBER INSERTION CODE\n",
      "0          None          MSE                A             -23           None\n",
      "1          None          HIS                A             -22           None\n",
      "2          None          HIS                A             -21           None\n",
      "3          None          HIS                A             -20           None\n",
      "4          None          HIS                A             -19           None\n",
      "5          None          HIS                A             -18           None\n",
      "6          None          HIS                A             -17           None\n",
      "7          None          SER                A             -16           None\n",
      "8          None          SER                A             -15           None\n",
      "9          None          GLY                A             -14           None\n",
      "10         None          VAL                A             -13           None\n",
      "11         None          ASP                A             -12           None\n",
      "12         None          LEU                A             -11           None\n",
      "13         None          GLY                A             -10           None\n",
      "14         None          THR                A              -9           None\n",
      "15         None          GLU                A              -8           None\n",
      "16         None          ASN                A              -7           None\n",
      "17         None          LEU                A              -6           None\n",
      "18         None          TYR                A              -5           None\n",
      "19         None          PHE                A              -4           None\n",
      "20         None          GLN                A              -3           None\n",
      "21         None          SER                A              -2           None\n",
      "22         None          MSE                A              -1           None\n",
      "23         None          LEU                A              95           None\n",
      "24         None          GLU                A              96           None\n",
      "25         None          TYR                A              97           None\n",
      "26         None          GLY                A              98           None\n",
      "27         None          MSE                B             -23           None\n",
      "28         None          HIS                B             -22           None\n",
      "29         None          HIS                B             -21           None\n",
      "30         None          HIS                B             -20           None\n",
      "31         None          HIS                B             -19           None\n",
      "32         None          HIS                B             -18           None\n",
      "33         None          HIS                B             -17           None\n",
      "34         None          SER                B             -16           None\n",
      "35         None          SER                B             -15           None\n",
      "36         None          GLY                B             -14           None\n",
      "37         None          VAL                B             -13           None\n",
      "38         None          ASP                B             -12           None\n",
      "39         None          LEU                B             -11           None\n",
      "40         None          GLY                B             -10           None\n",
      "41         None          THR                B              -9           None\n",
      "42         None          GLU                B              -8           None\n",
      "43         None          ASN                B              -7           None\n",
      "44         None          LEU                B              -6           None\n",
      "45         None          TYR                B              -5           None\n",
      "46         None          PHE                B              -4           None\n",
      "47         None          GLN                B              -3           None\n",
      "48         None          SER                B              -2           None\n",
      "49         None          MSE                B              -1           None\n"
     ]
    }
   ],
   "source": [
    "print(_4lza.get_missing_residue())"
   ]
  }
 ],
 "metadata": {
  "kernelspec": {
   "display_name": "Python 3",
   "language": "python",
   "name": "python3"
  },
  "language_info": {
   "codemirror_mode": {
    "name": "ipython",
    "version": 3
   },
   "file_extension": ".py",
   "mimetype": "text/x-python",
   "name": "python",
   "nbconvert_exporter": "python",
   "pygments_lexer": "ipython3",
   "version": "3.8.3"
  }
 },
 "nbformat": 4,
 "nbformat_minor": 2
}
